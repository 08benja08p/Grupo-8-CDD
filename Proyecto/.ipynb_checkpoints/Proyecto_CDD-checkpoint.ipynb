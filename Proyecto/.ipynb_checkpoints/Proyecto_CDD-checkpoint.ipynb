{
 "cells": [
  {
   "cell_type": "markdown",
   "metadata": {},
   "source": [
    "<img style=\"float: left; padding-right: 20px; width: 70px\" src=\"https://upload.wikimedia.org/wikipedia/commons/thumb/8/84/Escudo_de_la_Pontificia_Universidad_Cat%C3%B3lica_de_Chile.svg/1920px-Escudo_de_la_Pontificia_Universidad_Cat%C3%B3lica_de_Chile.svg.png\"> \n",
    "\n",
    "**Pontificia Universidad Católica de Chile**<br>\n",
    "**Semestre 2021-2**<br>\n",
    "**Profesora:** Paula Aguirre <br>\n",
    "\n",
    "----\n",
    "<div style=\"background-color:#fffff;\">\n",
    "    <br>\n",
    "    <p style=\"text-align:center;font-family:Times New Roman;color:black;font-size:20pt;font-weight:bold;margin:20px\">\n",
    "        Introducción a la Ciencia de Datos: Proyecto Final\n",
    "    </p>\n",
    "    <p style=\"text-align:center;font-family:Times New Roman;color:black;font-size:20pt;font-weight:bold;margin:20px\">\n",
    "        Influencia de los factores sociales y económicos en la proyección de la\n",
    "delincuencia.\n",
    "    </p>\n",
    "    <p style=\"text-align:center;font-family:Times New Roman;color:black;font-size:12pt;font-weight:bold;margin:20px\">\n",
    "        <br>Cristóbal Cancino - cristobal.cancinob@uc.cl</br>\n",
    "        <br>Diego Rodríguez - drodrguez@uc.cl</br>\n",
    "        <br>Benjamín Prieto - bprietz@uc.cl</br>\n",
    "        <br>Larry Uribe - larry@uc.cl</br>\n",
    "        <br>14 de diciembre de 2021\n",
    "        <br><br><b>Tiempo de ejecución aproximado:</b> 40 segundos.\n",
    "    </p>\n",
    "    <br><br>\n",
    "</div>"
   ]
  },
  {
   "cell_type": "code",
   "execution_count": 1,
   "metadata": {},
   "outputs": [],
   "source": [
    "import pandas as pd\n",
    "import requests \n",
    "import os\n",
    "import io, zipfile"
   ]
  },
  {
   "cell_type": "code",
   "execution_count": 2,
   "metadata": {},
   "outputs": [],
   "source": [
    "#Cargar archivos (I) : Data sobre denuncias de crimen de mayor connotación social.\n",
    "\n",
    "link_denuncias = 'http://cead.spd.gov.cl/centro-de-documentacion/?wpdmpro=estadisticas-anuales-delitos-de-mayor-connotacion-social-dmcs-base-censo-2017&wpdmdl=3047&'\n",
    "r = requests.get(link_denuncias, stream = True)\n",
    "#Descompresión de zip\n",
    "z = zipfile.ZipFile(io.BytesIO(r.content))\n",
    "z.extractall()"
   ]
  },
  {
   "cell_type": "code",
   "execution_count": 3,
   "metadata": {},
   "outputs": [
    {
     "ename": "FileNotFoundError",
     "evalue": "[Errno 2] No such file or directory: 'Data\\\\Delitos\\\\Frecuencia Anual_DENUNCIA.xlsx'",
     "output_type": "error",
     "traceback": [
      "\u001b[1;31m---------------------------------------------------------------------------\u001b[0m",
      "\u001b[1;31mFileNotFoundError\u001b[0m                         Traceback (most recent call last)",
      "\u001b[1;32m<ipython-input-3-bd0bd15a26d1>\u001b[0m in \u001b[0;36m<module>\u001b[1;34m\u001b[0m\n\u001b[0;32m      1\u001b[0m \u001b[1;31m#El archivo a ocupar para los delitos lleva por nombre 'Frecuencia Anual_DENUNCIA'.\u001b[0m\u001b[1;33m\u001b[0m\u001b[1;33m\u001b[0m\u001b[1;33m\u001b[0m\u001b[0m\n\u001b[0;32m      2\u001b[0m \u001b[0mpath_denuncias\u001b[0m \u001b[1;33m=\u001b[0m \u001b[0mos\u001b[0m\u001b[1;33m.\u001b[0m\u001b[0mpath\u001b[0m\u001b[1;33m.\u001b[0m\u001b[0mjoin\u001b[0m\u001b[1;33m(\u001b[0m\u001b[1;34m'Data'\u001b[0m\u001b[1;33m,\u001b[0m \u001b[1;34m'Delitos'\u001b[0m\u001b[1;33m,\u001b[0m \u001b[1;34m'Frecuencia Anual_DENUNCIA.xlsx'\u001b[0m\u001b[1;33m)\u001b[0m\u001b[1;33m\u001b[0m\u001b[1;33m\u001b[0m\u001b[0m\n\u001b[1;32m----> 3\u001b[1;33m \u001b[0mdata_denuncias\u001b[0m \u001b[1;33m=\u001b[0m \u001b[0mpd\u001b[0m\u001b[1;33m.\u001b[0m\u001b[0mread_excel\u001b[0m\u001b[1;33m(\u001b[0m\u001b[0mpath_denuncias\u001b[0m\u001b[1;33m,\u001b[0m \u001b[0msheet_name\u001b[0m \u001b[1;33m=\u001b[0m \u001b[1;32mNone\u001b[0m\u001b[1;33m)\u001b[0m\u001b[1;33m\u001b[0m\u001b[1;33m\u001b[0m\u001b[0m\n\u001b[0m\u001b[0;32m      4\u001b[0m \u001b[0mcolumnas_denuncias\u001b[0m \u001b[1;33m=\u001b[0m \u001b[0mdata_denuncias\u001b[0m\u001b[1;33m.\u001b[0m\u001b[0mkeys\u001b[0m\u001b[1;33m(\u001b[0m\u001b[1;33m)\u001b[0m\u001b[1;33m\u001b[0m\u001b[1;33m\u001b[0m\u001b[0m\n",
      "\u001b[1;32m~\\Anaconda3\\lib\\site-packages\\pandas\\util\\_decorators.py\u001b[0m in \u001b[0;36mwrapper\u001b[1;34m(*args, **kwargs)\u001b[0m\n\u001b[0;32m    309\u001b[0m                     \u001b[0mstacklevel\u001b[0m\u001b[1;33m=\u001b[0m\u001b[0mstacklevel\u001b[0m\u001b[1;33m,\u001b[0m\u001b[1;33m\u001b[0m\u001b[1;33m\u001b[0m\u001b[0m\n\u001b[0;32m    310\u001b[0m                 )\n\u001b[1;32m--> 311\u001b[1;33m             \u001b[1;32mreturn\u001b[0m \u001b[0mfunc\u001b[0m\u001b[1;33m(\u001b[0m\u001b[1;33m*\u001b[0m\u001b[0margs\u001b[0m\u001b[1;33m,\u001b[0m \u001b[1;33m**\u001b[0m\u001b[0mkwargs\u001b[0m\u001b[1;33m)\u001b[0m\u001b[1;33m\u001b[0m\u001b[1;33m\u001b[0m\u001b[0m\n\u001b[0m\u001b[0;32m    312\u001b[0m \u001b[1;33m\u001b[0m\u001b[0m\n\u001b[0;32m    313\u001b[0m         \u001b[1;32mreturn\u001b[0m \u001b[0mwrapper\u001b[0m\u001b[1;33m\u001b[0m\u001b[1;33m\u001b[0m\u001b[0m\n",
      "\u001b[1;32m~\\Anaconda3\\lib\\site-packages\\pandas\\io\\excel\\_base.py\u001b[0m in \u001b[0;36mread_excel\u001b[1;34m(io, sheet_name, header, names, index_col, usecols, squeeze, dtype, engine, converters, true_values, false_values, skiprows, nrows, na_values, keep_default_na, na_filter, verbose, parse_dates, date_parser, thousands, comment, skipfooter, convert_float, mangle_dupe_cols, storage_options)\u001b[0m\n\u001b[0;32m    362\u001b[0m     \u001b[1;32mif\u001b[0m \u001b[1;32mnot\u001b[0m \u001b[0misinstance\u001b[0m\u001b[1;33m(\u001b[0m\u001b[0mio\u001b[0m\u001b[1;33m,\u001b[0m \u001b[0mExcelFile\u001b[0m\u001b[1;33m)\u001b[0m\u001b[1;33m:\u001b[0m\u001b[1;33m\u001b[0m\u001b[1;33m\u001b[0m\u001b[0m\n\u001b[0;32m    363\u001b[0m         \u001b[0mshould_close\u001b[0m \u001b[1;33m=\u001b[0m \u001b[1;32mTrue\u001b[0m\u001b[1;33m\u001b[0m\u001b[1;33m\u001b[0m\u001b[0m\n\u001b[1;32m--> 364\u001b[1;33m         \u001b[0mio\u001b[0m \u001b[1;33m=\u001b[0m \u001b[0mExcelFile\u001b[0m\u001b[1;33m(\u001b[0m\u001b[0mio\u001b[0m\u001b[1;33m,\u001b[0m \u001b[0mstorage_options\u001b[0m\u001b[1;33m=\u001b[0m\u001b[0mstorage_options\u001b[0m\u001b[1;33m,\u001b[0m \u001b[0mengine\u001b[0m\u001b[1;33m=\u001b[0m\u001b[0mengine\u001b[0m\u001b[1;33m)\u001b[0m\u001b[1;33m\u001b[0m\u001b[1;33m\u001b[0m\u001b[0m\n\u001b[0m\u001b[0;32m    365\u001b[0m     \u001b[1;32melif\u001b[0m \u001b[0mengine\u001b[0m \u001b[1;32mand\u001b[0m \u001b[0mengine\u001b[0m \u001b[1;33m!=\u001b[0m \u001b[0mio\u001b[0m\u001b[1;33m.\u001b[0m\u001b[0mengine\u001b[0m\u001b[1;33m:\u001b[0m\u001b[1;33m\u001b[0m\u001b[1;33m\u001b[0m\u001b[0m\n\u001b[0;32m    366\u001b[0m         raise ValueError(\n",
      "\u001b[1;32m~\\Anaconda3\\lib\\site-packages\\pandas\\io\\excel\\_base.py\u001b[0m in \u001b[0;36m__init__\u001b[1;34m(self, path_or_buffer, engine, storage_options)\u001b[0m\n\u001b[0;32m   1190\u001b[0m             \u001b[1;32melse\u001b[0m\u001b[1;33m:\u001b[0m\u001b[1;33m\u001b[0m\u001b[1;33m\u001b[0m\u001b[0m\n\u001b[0;32m   1191\u001b[0m                 ext = inspect_excel_format(\n\u001b[1;32m-> 1192\u001b[1;33m                     \u001b[0mcontent_or_path\u001b[0m\u001b[1;33m=\u001b[0m\u001b[0mpath_or_buffer\u001b[0m\u001b[1;33m,\u001b[0m \u001b[0mstorage_options\u001b[0m\u001b[1;33m=\u001b[0m\u001b[0mstorage_options\u001b[0m\u001b[1;33m\u001b[0m\u001b[1;33m\u001b[0m\u001b[0m\n\u001b[0m\u001b[0;32m   1193\u001b[0m                 )\n\u001b[0;32m   1194\u001b[0m                 \u001b[1;32mif\u001b[0m \u001b[0mext\u001b[0m \u001b[1;32mis\u001b[0m \u001b[1;32mNone\u001b[0m\u001b[1;33m:\u001b[0m\u001b[1;33m\u001b[0m\u001b[1;33m\u001b[0m\u001b[0m\n",
      "\u001b[1;32m~\\Anaconda3\\lib\\site-packages\\pandas\\io\\excel\\_base.py\u001b[0m in \u001b[0;36minspect_excel_format\u001b[1;34m(content_or_path, storage_options)\u001b[0m\n\u001b[0;32m   1069\u001b[0m \u001b[1;33m\u001b[0m\u001b[0m\n\u001b[0;32m   1070\u001b[0m     with get_handle(\n\u001b[1;32m-> 1071\u001b[1;33m         \u001b[0mcontent_or_path\u001b[0m\u001b[1;33m,\u001b[0m \u001b[1;34m\"rb\"\u001b[0m\u001b[1;33m,\u001b[0m \u001b[0mstorage_options\u001b[0m\u001b[1;33m=\u001b[0m\u001b[0mstorage_options\u001b[0m\u001b[1;33m,\u001b[0m \u001b[0mis_text\u001b[0m\u001b[1;33m=\u001b[0m\u001b[1;32mFalse\u001b[0m\u001b[1;33m\u001b[0m\u001b[1;33m\u001b[0m\u001b[0m\n\u001b[0m\u001b[0;32m   1072\u001b[0m     ) as handle:\n\u001b[0;32m   1073\u001b[0m         \u001b[0mstream\u001b[0m \u001b[1;33m=\u001b[0m \u001b[0mhandle\u001b[0m\u001b[1;33m.\u001b[0m\u001b[0mhandle\u001b[0m\u001b[1;33m\u001b[0m\u001b[1;33m\u001b[0m\u001b[0m\n",
      "\u001b[1;32m~\\Anaconda3\\lib\\site-packages\\pandas\\io\\common.py\u001b[0m in \u001b[0;36mget_handle\u001b[1;34m(path_or_buf, mode, encoding, compression, memory_map, is_text, errors, storage_options)\u001b[0m\n\u001b[0;32m    709\u001b[0m         \u001b[1;32melse\u001b[0m\u001b[1;33m:\u001b[0m\u001b[1;33m\u001b[0m\u001b[1;33m\u001b[0m\u001b[0m\n\u001b[0;32m    710\u001b[0m             \u001b[1;31m# Binary mode\u001b[0m\u001b[1;33m\u001b[0m\u001b[1;33m\u001b[0m\u001b[1;33m\u001b[0m\u001b[0m\n\u001b[1;32m--> 711\u001b[1;33m             \u001b[0mhandle\u001b[0m \u001b[1;33m=\u001b[0m \u001b[0mopen\u001b[0m\u001b[1;33m(\u001b[0m\u001b[0mhandle\u001b[0m\u001b[1;33m,\u001b[0m \u001b[0mioargs\u001b[0m\u001b[1;33m.\u001b[0m\u001b[0mmode\u001b[0m\u001b[1;33m)\u001b[0m\u001b[1;33m\u001b[0m\u001b[1;33m\u001b[0m\u001b[0m\n\u001b[0m\u001b[0;32m    712\u001b[0m         \u001b[0mhandles\u001b[0m\u001b[1;33m.\u001b[0m\u001b[0mappend\u001b[0m\u001b[1;33m(\u001b[0m\u001b[0mhandle\u001b[0m\u001b[1;33m)\u001b[0m\u001b[1;33m\u001b[0m\u001b[1;33m\u001b[0m\u001b[0m\n\u001b[0;32m    713\u001b[0m \u001b[1;33m\u001b[0m\u001b[0m\n",
      "\u001b[1;31mFileNotFoundError\u001b[0m: [Errno 2] No such file or directory: 'Data\\\\Delitos\\\\Frecuencia Anual_DENUNCIA.xlsx'"
     ]
    }
   ],
   "source": [
    "#El archivo a ocupar para los delitos lleva por nombre 'Frecuencia Anual_DENUNCIA'. \n",
    "path_denuncias = os.path.join('Data', 'Delitos', 'Frecuencia Anual_DENUNCIA.xlsx')\n",
    "data_denuncias = pd.read_excel(path_denuncias, sheet_name = None)\n",
    "columnas_denuncias = data_denuncias.keys()"
   ]
  },
  {
   "cell_type": "code",
   "execution_count": null,
   "metadata": {},
   "outputs": [],
   "source": [
    "for columna in columnas_denuncias:\n",
    "    display(data_denuncias[columna].T.head())"
   ]
  },
  {
   "cell_type": "code",
   "execution_count": null,
   "metadata": {},
   "outputs": [],
   "source": [
    "# Cargar archivos (II) : Información varía sobre comunas.\n",
    "link_info_comunal = \"https://raw.githubusercontent.com/MinCiencia/Datos-COVID19/master/input/Otros/InformacionComunas.csv\"\n",
    "r = requests.get(link_info_comunal, stream=True)\n",
    "data_comunas = pd.read_csv(link_info_comunal)\n",
    "data_comunas.head()"
   ]
  },
  {
   "cell_type": "code",
   "execution_count": null,
   "metadata": {},
   "outputs": [],
   "source": [
    "# Cargar archivos (III) : Información plan paso a paso\n",
    "link_pap = 'https://raw.githubusercontent.com/MinCiencia/Datos-COVID19/master/input/Paso_a_paso/paso_a_paso.csv'\n",
    "r = requests.get(link_pap, stream = True)\n",
    "data_pap = pd.read_csv(link_pap)\n",
    "data_pap.head()"
   ]
  },
  {
   "cell_type": "code",
   "execution_count": null,
   "metadata": {},
   "outputs": [],
   "source": [
    "# Cargar archivos (IV) : Información sobre natalidad\n",
    "# Obtendremos varios archivos que contienen información anual\n",
    "links_natalidad = {2019:'https://raw.githubusercontent.com/MinCiencia/Datos-COVID19/master/input/RegistroCivil/Nacimientos/Nacimientos_2019-01-01_2019-12-31_DO.csv',\n",
    "                  2020:'https://raw.githubusercontent.com/MinCiencia/Datos-COVID19/master/input/RegistroCivil/Nacimientos/Nacimientos_2020-01-01_2020-12-31_DO.csv',\n",
    "                   2018:'https://raw.githubusercontent.com/MinCiencia/Datos-COVID19/master/input/RegistroCivil/Nacimientos/Nacimientos_2018-01-01_2018-12-31_DO.csv'}\n",
    "\n",
    "datas_natalidad = dict()\n",
    "\n",
    "for ano in range(2018, 2021):\n",
    "    datas_natalidad[ano] = pd.read_csv(links_natalidad[ano])\n",
    "    \n",
    "datas_natalidad[2018]\n",
    "    "
   ]
  },
  {
   "cell_type": "code",
   "execution_count": null,
   "metadata": {},
   "outputs": [],
   "source": [
    "#Cargar archivos (V) : Información sobre acceso a la salud\n",
    "#Para medir el acceso a la salud solo se considerará la información actualizada al 2021, por el acceso a los datos;\n",
    "#Y también por la poca variabilidad del nivel de hospitales\n",
    "\n",
    "link_salud = 'https://repositoriodeis.minsal.cl/DatosAbiertos/Establecimientos_ChileDEIS_MINSAL%2029-10-2021.xlsx'\n",
    "data_salud = pd.read_excel(link_salud, sheet_name = None)\n",
    "data_salud = data_salud['Establecimientos V']\n"
   ]
  },
  {
   "cell_type": "code",
   "execution_count": null,
   "metadata": {},
   "outputs": [],
   "source": [
    "header_row = 1 \n",
    "data_salud.columns = data_salud.iloc[header_row]\n",
    "data_salud.head()"
   ]
  },
  {
   "cell_type": "code",
   "execution_count": null,
   "metadata": {},
   "outputs": [],
   "source": [
    "#Cargar archivos (VI): Información sobre la mortalidad.\n",
    "\n",
    "links_mortalidad = {2019:'https://raw.githubusercontent.com/MinCiencia/Datos-COVID19/master/input/RegistroCivil/Defunciones/Defunciones_2019-01-01_2019-12-31_DO.csv',\n",
    "                  2020:'https://raw.githubusercontent.com/MinCiencia/Datos-COVID19/master/input/RegistroCivil/Defunciones/Defunciones_2020-01-01_2020-12-31_DO.csv',\n",
    "                   2018:'https://raw.githubusercontent.com/MinCiencia/Datos-COVID19/master/input/RegistroCivil/Defunciones/Defunciones_2018-01-01_2018-12-31_DO.csv' }\n",
    "\n",
    "datas_mortalidad = dict()\n",
    "\n",
    "for ano in range(2018, 2021):\n",
    "    datas_mortalidad[ano] = pd.read_csv(links_mortalidad[ano])\n",
    "\n",
    "datas_mortalidad[2018] "
   ]
  },
  {
   "cell_type": "code",
   "execution_count": null,
   "metadata": {},
   "outputs": [],
   "source": [
    "#ESTA PARTE ESTÁ INCOMPLETA. COMPLETAR EL 25-11.\n",
    "linkazo = 'http://datos.mineduc.cl/datasets/196387-directorio-de-establecimientos-2021.download/'\n",
    "#headers = {'User-Agent': 'Mozilla/5.0 (Windows NT 10.0; Win64; x64) AppleWebKit/537.36 (KHTML, like Gecko) Chrome/96.0.4664.45 Safari/537.36',\n",
    "          #'Cookie':'_ga=GA1.2.377815330.1633997856; _hjid=bfe9d992-da76-49cd-a7a3-6c82b7d655c7; fpestid=xtL6ZQONtwqONtIca9x4o2WAPNfqzeiJaYoZp7J0OmqM_eJwGYVkPPc_OE1nj86MiKnffA; __utmz=212104321.1634046891.2.2.utmcsr=google|utmccn=(organic)|utmcmd=organic|utmctr=(not provided); _gid=GA1.2.1117445521.1637702821; __utma=212104321.377815330.1633997856.1634310102.1637702823.5; __utmc=212104321; _hjSessionUser_667338=eyJpZCI6IjI2MGZiYzk0LTI2ZjItNTI5My05NDNiLTBhMjFlYTM2YWU1YiIsImNyZWF0ZWQiOjE2Mzc3MDI4MjEzNzAsImV4aXN0aW5nIjp0cnVlfQ==; _hjSession_667338=eyJpZCI6IjlkZTdkNDJmLTUyNTEtNGI2NS1iNmE0LWU5YmQwYzAzODA4YSIsImNyZWF0ZWQiOjE2Mzc3MDI4MjMxNzR9; _hjAbsoluteSessionInProgress=0; __utmt=1; __utmb=212104321.2.10.1637702823; _hjIncludedInPageviewSample=1'}\n",
    "r = requests.get(linkazo)#, headers = headers)\n",
    "print (r.status_code)\n",
    "\n",
    "session = requests.Session()\n",
    "\n",
    "\n",
    "ruta_b_educacion = os.path.join('Data', 'Educacion')\n",
    "#Se necesita crear la carpeta para almacenar los archivos de datos.\n",
    "#exist_ok permite evitar errores derivados de la ya-existencia de la carpeta.\n",
    "os.makedirs(ruta_b_educacion, exist_ok = True)\n",
    "\n"
   ]
  },
  {
   "cell_type": "code",
   "execution_count": null,
   "metadata": {},
   "outputs": [],
   "source": [
    "ruta_arch = os.path.join(ruta_b_educacion, 'Establecimientos_2021.csv')\n",
    "with open(ruta_arch, 'wb') as establecimientos_2021:\n",
    "    establecimientos_2021.write(r.content)"
   ]
  },
  {
   "cell_type": "code",
   "execution_count": null,
   "metadata": {},
   "outputs": [],
   "source": []
  }
 ],
 "metadata": {
  "kernelspec": {
   "display_name": "Python 3",
   "language": "python",
   "name": "python3"
  },
  "language_info": {
   "codemirror_mode": {
    "name": "ipython",
    "version": 3
   },
   "file_extension": ".py",
   "mimetype": "text/x-python",
   "name": "python",
   "nbconvert_exporter": "python",
   "pygments_lexer": "ipython3",
   "version": "3.7.4"
  }
 },
 "nbformat": 4,
 "nbformat_minor": 5
}
